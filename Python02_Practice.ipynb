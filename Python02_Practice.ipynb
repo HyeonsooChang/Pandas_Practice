{
 "cells": [
  {
   "cell_type": "code",
   "execution_count": 1,
   "id": "1e7d310a",
   "metadata": {},
   "outputs": [],
   "source": [
    "def print_coin():\n",
    "    print(\"비트코인\")"
   ]
  },
  {
   "cell_type": "code",
   "execution_count": 3,
   "id": "901c33cb",
   "metadata": {},
   "outputs": [
    {
     "name": "stdout",
     "output_type": "stream",
     "text": [
      "비트코인\n"
     ]
    }
   ],
   "source": [
    "print_coin()"
   ]
  },
  {
   "cell_type": "code",
   "execution_count": 4,
   "id": "b81e422a",
   "metadata": {},
   "outputs": [
    {
     "name": "stdout",
     "output_type": "stream",
     "text": [
      "비트코인\n",
      "비트코인\n",
      "비트코인\n",
      "비트코인\n",
      "비트코인\n",
      "비트코인\n",
      "비트코인\n",
      "비트코인\n",
      "비트코인\n",
      "비트코인\n",
      "비트코인\n",
      "비트코인\n",
      "비트코인\n",
      "비트코인\n",
      "비트코인\n",
      "비트코인\n",
      "비트코인\n",
      "비트코인\n",
      "비트코인\n",
      "비트코인\n",
      "비트코인\n",
      "비트코인\n",
      "비트코인\n",
      "비트코인\n",
      "비트코인\n",
      "비트코인\n",
      "비트코인\n",
      "비트코인\n",
      "비트코인\n",
      "비트코인\n",
      "비트코인\n",
      "비트코인\n",
      "비트코인\n",
      "비트코인\n",
      "비트코인\n",
      "비트코인\n",
      "비트코인\n",
      "비트코인\n",
      "비트코인\n",
      "비트코인\n",
      "비트코인\n",
      "비트코인\n",
      "비트코인\n",
      "비트코인\n",
      "비트코인\n",
      "비트코인\n",
      "비트코인\n",
      "비트코인\n",
      "비트코인\n",
      "비트코인\n",
      "비트코인\n",
      "비트코인\n",
      "비트코인\n",
      "비트코인\n",
      "비트코인\n",
      "비트코인\n",
      "비트코인\n",
      "비트코인\n",
      "비트코인\n",
      "비트코인\n",
      "비트코인\n",
      "비트코인\n",
      "비트코인\n",
      "비트코인\n",
      "비트코인\n",
      "비트코인\n",
      "비트코인\n",
      "비트코인\n",
      "비트코인\n",
      "비트코인\n",
      "비트코인\n",
      "비트코인\n",
      "비트코인\n",
      "비트코인\n",
      "비트코인\n",
      "비트코인\n",
      "비트코인\n",
      "비트코인\n",
      "비트코인\n",
      "비트코인\n",
      "비트코인\n",
      "비트코인\n",
      "비트코인\n",
      "비트코인\n",
      "비트코인\n",
      "비트코인\n",
      "비트코인\n",
      "비트코인\n",
      "비트코인\n",
      "비트코인\n",
      "비트코인\n",
      "비트코인\n",
      "비트코인\n",
      "비트코인\n",
      "비트코인\n",
      "비트코인\n",
      "비트코인\n",
      "비트코인\n",
      "비트코인\n",
      "비트코인\n"
     ]
    }
   ],
   "source": [
    "for i in range(100):\n",
    "    print_coin()"
   ]
  },
  {
   "cell_type": "code",
   "execution_count": 5,
   "id": "accb96f7",
   "metadata": {},
   "outputs": [],
   "source": [
    "def print_coin():\n",
    "    for i in range(100):\n",
    "        print(\"비트코인\")"
   ]
  },
  {
   "cell_type": "code",
   "execution_count": 6,
   "id": "44787572",
   "metadata": {},
   "outputs": [
    {
     "name": "stdout",
     "output_type": "stream",
     "text": [
      "비트코인\n",
      "비트코인\n",
      "비트코인\n",
      "비트코인\n",
      "비트코인\n",
      "비트코인\n",
      "비트코인\n",
      "비트코인\n",
      "비트코인\n",
      "비트코인\n",
      "비트코인\n",
      "비트코인\n",
      "비트코인\n",
      "비트코인\n",
      "비트코인\n",
      "비트코인\n",
      "비트코인\n",
      "비트코인\n",
      "비트코인\n",
      "비트코인\n",
      "비트코인\n",
      "비트코인\n",
      "비트코인\n",
      "비트코인\n",
      "비트코인\n",
      "비트코인\n",
      "비트코인\n",
      "비트코인\n",
      "비트코인\n",
      "비트코인\n",
      "비트코인\n",
      "비트코인\n",
      "비트코인\n",
      "비트코인\n",
      "비트코인\n",
      "비트코인\n",
      "비트코인\n",
      "비트코인\n",
      "비트코인\n",
      "비트코인\n",
      "비트코인\n",
      "비트코인\n",
      "비트코인\n",
      "비트코인\n",
      "비트코인\n",
      "비트코인\n",
      "비트코인\n",
      "비트코인\n",
      "비트코인\n",
      "비트코인\n",
      "비트코인\n",
      "비트코인\n",
      "비트코인\n",
      "비트코인\n",
      "비트코인\n",
      "비트코인\n",
      "비트코인\n",
      "비트코인\n",
      "비트코인\n",
      "비트코인\n",
      "비트코인\n",
      "비트코인\n",
      "비트코인\n",
      "비트코인\n",
      "비트코인\n",
      "비트코인\n",
      "비트코인\n",
      "비트코인\n",
      "비트코인\n",
      "비트코인\n",
      "비트코인\n",
      "비트코인\n",
      "비트코인\n",
      "비트코인\n",
      "비트코인\n",
      "비트코인\n",
      "비트코인\n",
      "비트코인\n",
      "비트코인\n",
      "비트코인\n",
      "비트코인\n",
      "비트코인\n",
      "비트코인\n",
      "비트코인\n",
      "비트코인\n",
      "비트코인\n",
      "비트코인\n",
      "비트코인\n",
      "비트코인\n",
      "비트코인\n",
      "비트코인\n",
      "비트코인\n",
      "비트코인\n",
      "비트코인\n",
      "비트코인\n",
      "비트코인\n",
      "비트코인\n",
      "비트코인\n",
      "비트코인\n",
      "비트코인\n"
     ]
    }
   ],
   "source": [
    "print_coin()"
   ]
  },
  {
   "cell_type": "code",
   "execution_count": 7,
   "id": "9733af00",
   "metadata": {},
   "outputs": [
    {
     "name": "stdout",
     "output_type": "stream",
     "text": [
      "B\n",
      "C\n",
      "B\n",
      "C\n",
      "B\n",
      "C\n",
      "A\n"
     ]
    }
   ],
   "source": [
    "def message1():\n",
    "    print(\"A\")\n",
    "\n",
    "def message2():\n",
    "    print(\"B\")\n",
    "\n",
    "def message3():\n",
    "    for i in range (3) :\n",
    "        message2()\n",
    "        print(\"C\")\n",
    "    message1()\n",
    "\n",
    "message3()"
   ]
  },
  {
   "cell_type": "code",
   "execution_count": 8,
   "id": "a99d8ace",
   "metadata": {},
   "outputs": [
    {
     "name": "stdout",
     "output_type": "stream",
     "text": [
      "안녕\n",
      "Hi\n"
     ]
    }
   ],
   "source": [
    "def 함수(문자열) :\n",
    "    print(문자열)\n",
    "\n",
    "함수(\"안녕\")\n",
    "함수(\"Hi\")"
   ]
  },
  {
   "cell_type": "code",
   "execution_count": 9,
   "id": "8ef75eef",
   "metadata": {},
   "outputs": [
    {
     "name": "stdout",
     "output_type": "stream",
     "text": [
      "7\n",
      "15\n"
     ]
    }
   ],
   "source": [
    "def 함수(a, b) :\n",
    "    print(a + b)\n",
    "\n",
    "함수(3, 4)\n",
    "함수(7, 8)"
   ]
  },
  {
   "cell_type": "code",
   "execution_count": 32,
   "id": "f6413a87",
   "metadata": {},
   "outputs": [],
   "source": [
    "def print_with_smile(a):\n",
    "    print(a+\":D\")"
   ]
  },
  {
   "cell_type": "code",
   "execution_count": 34,
   "id": "f267ad5b",
   "metadata": {},
   "outputs": [
    {
     "name": "stdout",
     "output_type": "stream",
     "text": [
      "안녕하세요:D\n"
     ]
    }
   ],
   "source": [
    "print_with_smile(\"안녕하세요\")"
   ]
  },
  {
   "cell_type": "code",
   "execution_count": 35,
   "id": "70d72157",
   "metadata": {},
   "outputs": [],
   "source": [
    "def print_upper_price(a):\n",
    "    print(a*1.3)"
   ]
  },
  {
   "cell_type": "code",
   "execution_count": 36,
   "id": "cd5cd987",
   "metadata": {},
   "outputs": [],
   "source": [
    "def print_sum(a,b):\n",
    "    print(a+b)"
   ]
  },
  {
   "cell_type": "code",
   "execution_count": 37,
   "id": "b7c75591",
   "metadata": {},
   "outputs": [],
   "source": [
    "def print_arithmetic_operation(a,b):\n",
    "    print(a, \"+\", b, \"=\", a + b)\n",
    "    print(a, \"-\", b, \"=\", a - b)\n",
    "    print(a, \"*\", b, \"=\", a * b)\n",
    "    print(a, \"/\", b, \"=\", a / b)"
   ]
  },
  {
   "cell_type": "code",
   "execution_count": 42,
   "id": "de0694ce",
   "metadata": {},
   "outputs": [],
   "source": [
    "def print_max(a, b, c) :\n",
    "    max_val = 0\n",
    "    if a > max_val :\n",
    "        max_val = a\n",
    "    if b > max_val :\n",
    "        max_val = b\n",
    "    if c > max_val :\n",
    "        max_val = c\n",
    "    print(max_val)"
   ]
  },
  {
   "cell_type": "code",
   "execution_count": 43,
   "id": "2ebc2623",
   "metadata": {},
   "outputs": [
    {
     "name": "stdout",
     "output_type": "stream",
     "text": [
      "3\n"
     ]
    }
   ],
   "source": [
    "print_max(1,2,3)"
   ]
  },
  {
   "cell_type": "code",
   "execution_count": 45,
   "id": "d94a63a2",
   "metadata": {},
   "outputs": [
    {
     "name": "stdout",
     "output_type": "stream",
     "text": [
      "nohtyp\n"
     ]
    }
   ],
   "source": [
    "def print_reverse(string):\n",
    "    print(string[::-1])\n",
    "print_reverse(\"python\")"
   ]
  },
  {
   "cell_type": "code",
   "execution_count": 52,
   "id": "4936efff",
   "metadata": {},
   "outputs": [
    {
     "name": "stdout",
     "output_type": "stream",
     "text": [
      "3.0\n"
     ]
    }
   ],
   "source": [
    "def print_score(list):\n",
    "    print(sum(list)/len(list))\n",
    "\n",
    "print_score([2,3,4])"
   ]
  },
  {
   "cell_type": "code",
   "execution_count": 58,
   "id": "0f142542",
   "metadata": {},
   "outputs": [
    {
     "name": "stdout",
     "output_type": "stream",
     "text": [
      "12\n",
      "4\n"
     ]
    }
   ],
   "source": [
    "def print_even(a):\n",
    "    for i in a:\n",
    "        if i % 2 == 0:\n",
    "            print(i)\n",
    "\n",
    "print_even([12,3,4,5])"
   ]
  },
  {
   "cell_type": "code",
   "execution_count": 61,
   "id": "19282df7",
   "metadata": {},
   "outputs": [
    {
     "name": "stdout",
     "output_type": "stream",
     "text": [
      "이름\n",
      "나이\n",
      "성별\n"
     ]
    }
   ],
   "source": [
    "def print_keys(a):\n",
    "    for i in a.keys():\n",
    "        print(i)\n",
    "    \n",
    "print_keys({\"이름\":\"김말똥\", \"나이\":30, \"성별\":0})"
   ]
  },
  {
   "cell_type": "code",
   "execution_count": 63,
   "id": "2a8204db",
   "metadata": {},
   "outputs": [
    {
     "name": "stdout",
     "output_type": "stream",
     "text": [
      "아이엠어보\n",
      "이유알어걸\n",
      "\n"
     ]
    }
   ],
   "source": [
    "def print_5xn(string):\n",
    "    a = int(len(string)/5)\n",
    "    for i in range (a+1):\n",
    "        print(string[i*5:i*5+5])\n",
    "\n",
    "\n",
    "print_5xn(\"아이엠어보이유알어걸\")"
   ]
  },
  {
   "cell_type": "code",
   "execution_count": 65,
   "id": "e375a013",
   "metadata": {},
   "outputs": [
    {
     "name": "stdout",
     "output_type": "stream",
     "text": [
      "아이엠\n",
      "어보이\n",
      "유알어\n",
      "걸\n"
     ]
    }
   ],
   "source": [
    "def print_mxn(line, num):\n",
    "    chunk_num = int(len(line) / num)\n",
    "    for x in range(chunk_num + 1) :\n",
    "        print(line[x * num: x * num + num])\n",
    "        \n",
    "print_mxn(\"아이엠어보이유알어걸\", 3)"
   ]
  },
  {
   "cell_type": "code",
   "execution_count": 67,
   "id": "a27e31bf",
   "metadata": {},
   "outputs": [
    {
     "name": "stdout",
     "output_type": "stream",
     "text": [
      "1000000.0\n"
     ]
    }
   ],
   "source": [
    "def calc_monthly_salary(a):\n",
    "    print(a/12)\n",
    "\n",
    "calc_monthly_salary(12000000)"
   ]
  },
  {
   "cell_type": "code",
   "execution_count": 73,
   "id": "e8c2da98",
   "metadata": {},
   "outputs": [
    {
     "data": {
      "text/plain": [
       "'www.naver.com'"
      ]
     },
     "execution_count": 73,
     "metadata": {},
     "output_type": "execute_result"
    }
   ],
   "source": [
    "def make_url(a):\n",
    "    return \"www.\" + a + \".com\"\n",
    "\n",
    "make_url(\"naver\")"
   ]
  },
  {
   "cell_type": "code",
   "execution_count": 74,
   "id": "f4e9cde4",
   "metadata": {},
   "outputs": [
    {
     "data": {
      "text/plain": [
       "['a', 'b', 'c', 'd']"
      ]
     },
     "execution_count": 74,
     "metadata": {},
     "output_type": "execute_result"
    }
   ],
   "source": [
    "def make_list(a):\n",
    "    return list(a)\n",
    "\n",
    "make_list(\"abcd\")\n",
    "        "
   ]
  },
  {
   "cell_type": "code",
   "execution_count": 78,
   "id": "d33d13e8",
   "metadata": {},
   "outputs": [
    {
     "data": {
      "text/plain": [
       "[4, 6, 8]"
      ]
     },
     "execution_count": 78,
     "metadata": {},
     "output_type": "execute_result"
    }
   ],
   "source": [
    "def pickup_even(a):\n",
    "    b = []\n",
    "    for i in a:\n",
    "        if i % 2 == 0:\n",
    "            b.append(i)\n",
    "    return b\n",
    "        \n",
    "pickup_even([3, 4, 5, 6, 7, 8])"
   ]
  },
  {
   "cell_type": "code",
   "execution_count": 80,
   "id": "65f44a25",
   "metadata": {},
   "outputs": [
    {
     "data": {
      "text/plain": [
       "1234567"
      ]
     },
     "execution_count": 80,
     "metadata": {},
     "output_type": "execute_result"
    }
   ],
   "source": [
    "def convert_int(b):\n",
    "    return int(b.replace(',',\"\"))\n",
    "convert_int(\"1,234,567\")"
   ]
  },
  {
   "cell_type": "code",
   "execution_count": 81,
   "id": "85e097b9",
   "metadata": {},
   "outputs": [
    {
     "name": "stdout",
     "output_type": "stream",
     "text": [
      "140\n"
     ]
    }
   ],
   "source": [
    "def 함수1(num) :\n",
    "    return num + 4\n",
    "\n",
    "def 함수2(num) :\n",
    "    return num * 10\n",
    "\n",
    "a = 함수1(10)\n",
    "c = 함수2(a)\n",
    "print(c)"
   ]
  },
  {
   "cell_type": "code",
   "execution_count": 82,
   "id": "93260a1d",
   "metadata": {},
   "outputs": [
    {
     "name": "stdout",
     "output_type": "stream",
     "text": [
      "28\n"
     ]
    }
   ],
   "source": [
    "def 함수0(num) :\n",
    "    return num * 2\n",
    "\n",
    "def 함수1(num) :\n",
    "    return 함수0(num + 2)\n",
    "\n",
    "def 함수2(num) :\n",
    "    num = num + 10\n",
    "    return 함수1(num)\n",
    "\n",
    "c = 함수2(2)\n",
    "print(c)"
   ]
  },
  {
   "cell_type": "code",
   "execution_count": null,
   "id": "36cb3312",
   "metadata": {},
   "outputs": [],
   "source": []
  }
 ],
 "metadata": {
  "kernelspec": {
   "display_name": "Python 3",
   "language": "python",
   "name": "python3"
  },
  "language_info": {
   "codemirror_mode": {
    "name": "ipython",
    "version": 3
   },
   "file_extension": ".py",
   "mimetype": "text/x-python",
   "name": "python",
   "nbconvert_exporter": "python",
   "pygments_lexer": "ipython3",
   "version": "3.8.8"
  },
  "vp": {
   "base_numbering": 1,
   "nav_menu": {},
   "number_sections": true,
   "sideBar": true,
   "title_cell": "VisualPython",
   "title_sidebar": "VisualPython",
   "vpPosition": {
    "height": "calc(100% - 180px)",
    "right": "10px",
    "top": "110px",
    "width": "50%"
   },
   "vp_cell": false,
   "vp_section_display": true,
   "vp_window_display": false
  }
 },
 "nbformat": 4,
 "nbformat_minor": 5
}
