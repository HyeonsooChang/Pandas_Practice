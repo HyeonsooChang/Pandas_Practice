{
 "cells": [
  {
   "cell_type": "markdown",
   "id": "d23fb976",
   "metadata": {},
   "source": [
    "필터링"
   ]
  },
  {
   "cell_type": "code",
   "execution_count": 11,
   "id": "ce6acac2",
   "metadata": {},
   "outputs": [
    {
     "name": "stdout",
     "output_type": "stream",
     "text": [
      "    survived  pclass     sex  age  sibsp  parch     fare embarked   class  \\\n",
      "7          0       3    male  2.0      3      1  21.0750        S   Third   \n",
      "10         1       3  female  4.0      1      1  16.7000        S   Third   \n",
      "16         0       3    male  2.0      4      1  29.1250        Q   Third   \n",
      "24         0       3  female  8.0      3      1  21.0750        S   Third   \n",
      "43         1       2  female  3.0      1      2  41.5792        C  Second   \n",
      "\n",
      "      who  adult_male deck  embark_town alive  alone  \n",
      "7   child       False  NaN  Southampton    no  False  \n",
      "10  child       False    G  Southampton   yes  False  \n",
      "16  child       False  NaN   Queenstown    no  False  \n",
      "24  child       False  NaN  Southampton    no  False  \n",
      "43  child       False  NaN    Cherbourg   yes  False  \n",
      "     survived  pclass     sex  age  sibsp  parch     fare embarked   class  \\\n",
      "10          1       3  female  4.0      1      1  16.7000        S   Third   \n",
      "24          0       3  female  8.0      3      1  21.0750        S   Third   \n",
      "43          1       2  female  3.0      1      2  41.5792        C  Second   \n",
      "58          1       2  female  5.0      1      2  27.7500        S  Second   \n",
      "119         0       3  female  2.0      4      2  31.2750        S   Third   \n",
      "\n",
      "       who  adult_male deck  embark_town alive  alone  \n",
      "10   child       False    G  Southampton   yes  False  \n",
      "24   child       False  NaN  Southampton    no  False  \n",
      "43   child       False  NaN    Cherbourg   yes  False  \n",
      "58   child       False  NaN  Southampton   yes  False  \n",
      "119  child       False  NaN  Southampton    no  False  \n",
      "     age     sex  alone\n",
      "7    2.0    male  False\n",
      "10   4.0  female  False\n",
      "16   2.0    male  False\n",
      "24   8.0  female  False\n",
      "33  66.0    male   True\n"
     ]
    }
   ],
   "source": [
    "import seaborn as sns\n",
    "\n",
    "titanic =sns.load_dataset('titanic')\n",
    "\n",
    "#나이가 10대인 승객만 따로 선택\n",
    "mask1 = (titanic.age<=10) & (titanic.age<20)\n",
    "df_teenage = titanic.loc[mask1, :]\n",
    "print(df_teenage.head())\n",
    "\n",
    "#나이가 10세 미만이고 여성인 승객만 따로 선택\n",
    "mask2 = (titanic.age <10) & (titanic.sex =='female')\n",
    "df_female_under10 = titanic.loc[mask2, :]\n",
    "print(df_female_under10.head())\n",
    "\n",
    "#나이가 10세 미만 또는 60세 이상인 승객의 age, sex, alone 열만 선택\n",
    "mask3 = (titanic.age<10) | (titanic.age >=60)\n",
    "df_under10_morethan60 = titanic.loc[mask3, ['age','sex','alone']]\n",
    "print(df_under10_morethan60.head())"
   ]
  },
  {
   "cell_type": "code",
   "execution_count": 13,
   "id": "31577d39",
   "metadata": {},
   "outputs": [
    {
     "name": "stdout",
     "output_type": "stream",
     "text": [
      "    survived  pclass     sex   age  sibsp  ...  adult_male  deck  embark_town  \\\n",
      "7          0       3    male   2.0      3  ...       False   NaN  Southampton   \n",
      "16         0       3    male   2.0      4  ...       False   NaN   Queenstown   \n",
      "24         0       3  female   8.0      3  ...       False   NaN  Southampton   \n",
      "27         0       1    male  19.0      3  ...        True     C  Southampton   \n",
      "50         0       3    male   7.0      4  ...       False   NaN  Southampton   \n",
      "\n",
      "   alive  alone  \n",
      "7     no  False  \n",
      "16    no  False  \n",
      "24    no  False  \n",
      "27    no  False  \n",
      "50    no  False  \n",
      "\n",
      "[5 rows x 15 columns]\n"
     ]
    }
   ],
   "source": [
    "import seaborn as sns\n",
    "import pandas as pd\n",
    "\n",
    "titanic =sns.load_dataset('titanic')\n",
    "\n",
    "#IPython 디스플레이 설정 변경 - 출력할 최대 열의 개수\n",
    "pd.set_option('display.max_columns', 10)\n",
    "\n",
    "#함꼐 탑승한 형제 또는 배우자 수가 3,4,5인 승객만 따로 추출 - 불린 인덱싱\n",
    "mask3 = titanic['sibsp'] ==3\n",
    "mask4 = titanic['sibsp'] ==4\n",
    "mask5 = titanic['sibsp'] ==5\n",
    "df_boolean = titanic[mask3 | mask4 | mask5]\n",
    "print(df_boolean.head())"
   ]
  },
  {
   "cell_type": "code",
   "execution_count": 14,
   "id": "2aa773cc",
   "metadata": {},
   "outputs": [
    {
     "name": "stdout",
     "output_type": "stream",
     "text": [
      "    survived  pclass     sex   age  sibsp  ...  adult_male  deck  embark_town  \\\n",
      "7          0       3    male   2.0      3  ...       False   NaN  Southampton   \n",
      "16         0       3    male   2.0      4  ...       False   NaN   Queenstown   \n",
      "24         0       3  female   8.0      3  ...       False   NaN  Southampton   \n",
      "27         0       1    male  19.0      3  ...        True     C  Southampton   \n",
      "50         0       3    male   7.0      4  ...       False   NaN  Southampton   \n",
      "\n",
      "   alive  alone  \n",
      "7     no  False  \n",
      "16    no  False  \n",
      "24    no  False  \n",
      "27    no  False  \n",
      "50    no  False  \n",
      "\n",
      "[5 rows x 15 columns]\n"
     ]
    }
   ],
   "source": [
    "#isin() 메소드 활용하여 동일한 조건으로 추출\n",
    "\n",
    "isin_filter = titanic['sibsp'].isin([3,4,5])\n",
    "df_isin = titanic[isin_filter]\n",
    "print(df_isin.head())"
   ]
  },
  {
   "cell_type": "code",
   "execution_count": null,
   "id": "d93e1954",
   "metadata": {},
   "outputs": [],
   "source": []
  }
 ],
 "metadata": {
  "kernelspec": {
   "display_name": "Python 3",
   "language": "python",
   "name": "python3"
  },
  "language_info": {
   "codemirror_mode": {
    "name": "ipython",
    "version": 3
   },
   "file_extension": ".py",
   "mimetype": "text/x-python",
   "name": "python",
   "nbconvert_exporter": "python",
   "pygments_lexer": "ipython3",
   "version": "3.8.8"
  },
  "vp": {
   "base_numbering": 1,
   "nav_menu": {},
   "number_sections": true,
   "sideBar": true,
   "title_cell": "VisualPython",
   "title_sidebar": "VisualPython",
   "vpPosition": {
    "height": "calc(100% - 180px)",
    "right": "10px",
    "top": "110px",
    "width": "50%"
   },
   "vp_cell": false,
   "vp_section_display": true,
   "vp_window_display": false
  }
 },
 "nbformat": 4,
 "nbformat_minor": 5
}
