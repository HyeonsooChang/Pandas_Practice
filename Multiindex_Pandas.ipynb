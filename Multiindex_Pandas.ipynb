{
 "cells": [
  {
   "cell_type": "markdown",
   "id": "90acd710",
   "metadata": {},
   "source": [
    "멀티 인덱스"
   ]
  },
  {
   "cell_type": "code",
   "execution_count": 58,
   "id": "e3406437",
   "metadata": {},
   "outputs": [
    {
     "name": "stdout",
     "output_type": "stream",
     "text": [
      "                     age        fare  survived\n",
      "class  sex                                    \n",
      "First  female  34.611765  106.125798  0.968085\n",
      "       male    41.281386   67.226127  0.368852\n",
      "Second female  28.722973   21.970121  0.921053\n",
      "       male    30.740707   19.741782  0.157407\n",
      "Third  female  21.750000   16.118810  0.500000\n",
      "       male    26.507589   12.661633  0.135447\n",
      "\n",
      "\n",
      "<class 'pandas.core.frame.DataFrame'>\n"
     ]
    }
   ],
   "source": [
    "# 라이브러리 불러오기\n",
    "import pandas as pd\n",
    "import seaborn as sns\n",
    "\n",
    "# titanic 데이터셋에서 age, sex 등 5개 열을 선택하여 데이터프레임 만들기\n",
    "titanic = sns.load_dataset('titanic')\n",
    "df = titanic.loc[:, ['age','sex', 'class', 'fare', 'survived']]\n",
    "\n",
    "#class 열, sex열을 기준으로 분할\n",
    "grouped = df.groupby(['class', 'sex'])\n",
    "\n",
    "#그룹 객체에 연산 메소드 적용\n",
    "gdf = grouped.mean()\n",
    "print(gdf)\n",
    "print('\\n')\n",
    "print(type(gdf))"
   ]
  },
  {
   "cell_type": "code",
   "execution_count": 59,
   "id": "f41d16ba",
   "metadata": {},
   "outputs": [
    {
     "name": "stdout",
     "output_type": "stream",
     "text": [
      "              age        fare  survived\n",
      "sex                                    \n",
      "female  34.611765  106.125798  0.968085\n",
      "male    41.281386   67.226127  0.368852\n"
     ]
    }
   ],
   "source": [
    "#class 값이 First인 행을 선택하여 출력\n",
    "print(gdf.loc['First'])"
   ]
  },
  {
   "cell_type": "code",
   "execution_count": 61,
   "id": "4a747b20",
   "metadata": {},
   "outputs": [
    {
     "name": "stdout",
     "output_type": "stream",
     "text": [
      "age          34.611765\n",
      "fare        106.125798\n",
      "survived      0.968085\n",
      "Name: (First, female), dtype: float64\n"
     ]
    }
   ],
   "source": [
    "#class 값이 First이고, sex 값이 female인 행을 선택하여 출력\n",
    "print(gdf.loc[('First','female')])"
   ]
  },
  {
   "cell_type": "code",
   "execution_count": 62,
   "id": "2688b584",
   "metadata": {},
   "outputs": [
    {
     "name": "stdout",
     "output_type": "stream",
     "text": [
      "              age       fare  survived\n",
      "class                                 \n",
      "First   41.281386  67.226127  0.368852\n",
      "Second  30.740707  19.741782  0.157407\n",
      "Third   26.507589  12.661633  0.135447\n"
     ]
    }
   ],
   "source": [
    "#sex 값이 male인 행을 선택하여 출력\n",
    "print(gdf.xs('male', level='sex'))"
   ]
  },
  {
   "cell_type": "markdown",
   "id": "2a002367",
   "metadata": {},
   "source": [
    "피벗"
   ]
  },
  {
   "cell_type": "code",
   "execution_count": 64,
   "id": "8485822d",
   "metadata": {},
   "outputs": [
    {
     "name": "stdout",
     "output_type": "stream",
     "text": [
      "    age     sex  class     fare  survived\n",
      "0  22.0    male  Third   7.2500         0\n",
      "1  38.0  female  First  71.2833         1\n",
      "2  26.0  female  Third   7.9250         1\n",
      "3  35.0  female  First  53.1000         1\n",
      "4  35.0    male  Third   8.0500         0\n",
      "\n",
      "\n",
      "sex        female       male\n",
      "class                       \n",
      "First   34.611765  41.281386\n",
      "Second  28.722973  30.740707\n",
      "Third   21.750000  26.507589\n"
     ]
    }
   ],
   "source": [
    "# 라이브러리 불러오기\n",
    "import pandas as pd\n",
    "import seaborn as sns\n",
    "\n",
    "# IPyhton 디스플레이 설정 변경 \n",
    "pd.set_option('display.max_columns', 10)    # 출력할 최대 열의 개수\n",
    "pd.set_option('display.max_colwidth', 20)    # 출력할 열의 너비\n",
    "\n",
    "# titanic 데이터셋에서 age, sex 등 5개 열을 선택하여 데이터프레임 만들기\n",
    "titanic = sns.load_dataset('titanic')\n",
    "df = titanic.loc[:, ['age','sex', 'class', 'fare', 'survived']]\n",
    "print(df.head())\n",
    "print('\\n')\n",
    "\n",
    "#행, 열, 값, 집계에 사용할 열을 1개씩 저장 - 평균 집계\n",
    "pdf1 = pd.pivot_table(df,\n",
    "                     index='class',\n",
    "                     columns='sex',\n",
    "                     values='age',\n",
    "                     aggfunc='mean')\n",
    "print(pdf1.head())"
   ]
  },
  {
   "cell_type": "code",
   "execution_count": 66,
   "id": "79d9eab2",
   "metadata": {},
   "outputs": [
    {
     "name": "stdout",
     "output_type": "stream",
     "text": [
      "            mean              sum     \n",
      "sex       female      male female male\n",
      "class                                 \n",
      "First   0.968085  0.368852     91   45\n",
      "Second  0.921053  0.157407     70   17\n",
      "Third   0.500000  0.135447     72   47\n"
     ]
    }
   ],
   "source": [
    "#값에 적용하는 집계 함수 2개 이상 지정 가능 - 생존율, 생존자 수 집계\n",
    "pdf2 = pd.pivot_table(df,\n",
    "                     index='class',\n",
    "                     columns='sex',\n",
    "                     values='survived',\n",
    "                     aggfunc=['mean','sum'])\n",
    "\n",
    "print(pdf2.head())"
   ]
  },
  {
   "cell_type": "code",
   "execution_count": 67,
   "id": "a6dc84bd",
   "metadata": {},
   "outputs": [
    {
     "name": "stdout",
     "output_type": "stream",
     "text": [
      "                    mean                                      max        \\\n",
      "                     age                   fare               age         \n",
      "survived               0          1           0           1     0     1   \n",
      "class  sex                                                                \n",
      "First  female  25.666667  34.939024  110.604167  105.978159  50.0  63.0   \n",
      "       male    44.581967  36.248000   62.894910   74.637320  71.0  80.0   \n",
      "Second female  36.000000  28.080882   18.250000   22.288989  57.0  55.0   \n",
      "       male    33.369048  16.022000   19.488965   21.095100  70.0  62.0   \n",
      "Third  female  23.818182  19.329787   19.773093   12.464526  48.0  63.0   \n",
      "\n",
      "                                 \n",
      "                 fare            \n",
      "survived            0         1  \n",
      "class  sex                       \n",
      "First  female  151.55  512.3292  \n",
      "       male    263.00  512.3292  \n",
      "Second female   26.00   65.0000  \n",
      "       male     73.50   39.0000  \n",
      "Third  female   69.55   31.3875  \n",
      "\n",
      "\n",
      "MultiIndex([( 'First', 'female'),\n",
      "            ( 'First',   'male'),\n",
      "            ('Second', 'female'),\n",
      "            ('Second',   'male'),\n",
      "            ( 'Third', 'female'),\n",
      "            ( 'Third',   'male')],\n",
      "           names=['class', 'sex'])\n",
      "MultiIndex([('mean',  'age', 0),\n",
      "            ('mean',  'age', 1),\n",
      "            ('mean', 'fare', 0),\n",
      "            ('mean', 'fare', 1),\n",
      "            ( 'max',  'age', 0),\n",
      "            ( 'max',  'age', 1),\n",
      "            ( 'max', 'fare', 0),\n",
      "            ( 'max', 'fare', 1)],\n",
      "           names=[None, None, 'survived'])\n"
     ]
    }
   ],
   "source": [
    "#행, 열, 값에 사용할 열을 2개 이상 지정 가능 - 평균 나이, 최대 요금 집계\n",
    "pdf3 = pd.pivot_table(df,\n",
    "                     index=['class','sex'],\n",
    "                     columns='survived',\n",
    "                     values=['age','fare'],\n",
    "                     aggfunc=['mean','max'])\n",
    "\n",
    "#IPython Console 디스플레이 옵션 설정\n",
    "pd.set_option('display.max_columns', 10)\n",
    "print(pdf3.head())\n",
    "print('\\n')\n",
    "\n",
    "#행, 열 구조 살펴보기\n",
    "print(pdf3.index)\n",
    "print(pdf3.columns)"
   ]
  },
  {
   "cell_type": "code",
   "execution_count": 68,
   "id": "1348167f",
   "metadata": {},
   "outputs": [
    {
     "name": "stdout",
     "output_type": "stream",
     "text": [
      "               mean                                      max                \\\n",
      "                age                   fare               age          fare   \n",
      "survived          0          1           0           1     0     1       0   \n",
      "sex                                                                          \n",
      "female    25.666667  34.939024  110.604167  105.978159  50.0  63.0  151.55   \n",
      "male      44.581967  36.248000   62.894910   74.637320  71.0  80.0  263.00   \n",
      "\n",
      "                    \n",
      "                    \n",
      "survived         1  \n",
      "sex                 \n",
      "female    512.3292  \n",
      "male      512.3292  \n"
     ]
    }
   ],
   "source": [
    "#xs 인덱서 사용 - 행 선택(defalut: axis =0)\n",
    "print(pdf3.xs('First'))"
   ]
  },
  {
   "cell_type": "code",
   "execution_count": null,
   "id": "2a76f286",
   "metadata": {},
   "outputs": [],
   "source": []
  }
 ],
 "metadata": {
  "kernelspec": {
   "display_name": "Python 3",
   "language": "python",
   "name": "python3"
  },
  "language_info": {
   "codemirror_mode": {
    "name": "ipython",
    "version": 3
   },
   "file_extension": ".py",
   "mimetype": "text/x-python",
   "name": "python",
   "nbconvert_exporter": "python",
   "pygments_lexer": "ipython3",
   "version": "3.8.8"
  },
  "vp": {
   "base_numbering": 1,
   "nav_menu": {},
   "number_sections": true,
   "sideBar": true,
   "title_cell": "VisualPython",
   "title_sidebar": "VisualPython",
   "vpPosition": {
    "height": "calc(100% - 180px)",
    "right": "10px",
    "top": "110px",
    "width": "50%"
   },
   "vp_cell": false,
   "vp_section_display": true,
   "vp_window_display": false
  }
 },
 "nbformat": 4,
 "nbformat_minor": 5
}
