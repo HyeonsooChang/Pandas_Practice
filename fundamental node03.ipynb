{
 "cells": [
  {
   "cell_type": "code",
   "execution_count": 1,
   "id": "899149aa",
   "metadata": {},
   "outputs": [
    {
     "name": "stdout",
     "output_type": "stream",
     "text": [
      "time: 0.0\n"
     ]
    }
   ],
   "source": [
    "#(1) for문 잘 사용하기\n",
    "\n",
    "#실행시간 측정\n",
    "\n",
    "import time\n",
    "start= time.time() #시작 시간 저장\n",
    "\n",
    "a=1\n",
    "for i in range(100):\n",
    "    a+=1\n",
    "    \n",
    "#작업 코드\n",
    "print(\"time:\", time.time() - start)"
   ]
  },
  {
   "cell_type": "code",
   "execution_count": 2,
   "id": "bde166c4",
   "metadata": {},
   "outputs": [
    {
     "name": "stdout",
     "output_type": "stream",
     "text": [
      "값: a\n",
      "값: b\n",
      "값: c\n",
      "값: d\n"
     ]
    }
   ],
   "source": [
    "my_list = ['a','b','c','d']\n",
    "for i in my_list:\n",
    "    print(\"값:\", i)"
   ]
  },
  {
   "cell_type": "code",
   "execution_count": 3,
   "id": "32520f73",
   "metadata": {},
   "outputs": [
    {
     "name": "stdout",
     "output_type": "stream",
     "text": [
      "순번 : 0 ,값 : a\n",
      "순번 : 1 ,값 : b\n",
      "순번 : 2 ,값 : c\n",
      "순번 : 3 ,값 : d\n"
     ]
    }
   ],
   "source": [
    "#enumerate 함수는 순서와 리스트의 값을 함께 변환해주는 기능\n",
    "\n",
    "my_list = ['a','b','c','d']\n",
    "\n",
    "for i, value in enumerate(my_list):\n",
    "    print(\"순번 :\", i, \",값 :\", value)"
   ]
  },
  {
   "cell_type": "code",
   "execution_count": 4,
   "id": "1b3b8ab9",
   "metadata": {},
   "outputs": [
    {
     "name": "stdout",
     "output_type": "stream",
     "text": [
      "[(0, 'a'), (0, 'b'), (0, 'c'), (0, 'd'), (1, 'a'), (1, 'b'), (1, 'c'), (1, 'd')]\n"
     ]
    }
   ],
   "source": [
    "my_list = ['a','b','c','d']\n",
    "result_list = []\n",
    "\n",
    "for i in range(2):\n",
    "    for j in my_list:\n",
    "        result_list.append((i,j))\n",
    "        \n",
    "print(result_list)"
   ]
  },
  {
   "cell_type": "code",
   "execution_count": 5,
   "id": "d9555d5b",
   "metadata": {},
   "outputs": [
    {
     "name": "stdout",
     "output_type": "stream",
     "text": [
      "[(0, 'a'), (0, 'b'), (0, 'c'), (0, 'd'), (1, 'a'), (1, 'b'), (1, 'c'), (1, 'd')]\n"
     ]
    }
   ],
   "source": [
    "#List Comprehension\n",
    "\n",
    "my_list = ['a','b','c','d']\n",
    "result_list = [(i,j) for i in range(2) for j in my_list]\n",
    "\n",
    "print(result_list)"
   ]
  },
  {
   "cell_type": "code",
   "execution_count": 6,
   "id": "2450bf79",
   "metadata": {},
   "outputs": [
    {
     "name": "stdout",
     "output_type": "stream",
     "text": [
      ">> 8 data loaded..\n",
      "0 a\n",
      "0 b\n",
      "0 c\n",
      "0 d\n",
      "1 a\n",
      "1 b\n",
      "1 c\n",
      "1 d\n"
     ]
    }
   ],
   "source": [
    "my_list = ['a','b','c','d']\n",
    "\n",
    "#인자로 받은 리스트를 가공해서 만든 데이터셋 리스트를 리턴하는 함수\n",
    "def get_dataset_list(my_list):\n",
    "    result_list=[]\n",
    "    for i in range(2):\n",
    "        for j in my_list:\n",
    "            result_list.append((i,j))\n",
    "    \n",
    "    print('>> {} data loaded..'.format(len(result_list)))\n",
    "    return result_list\n",
    "\n",
    "for X,y in get_dataset_list(my_list):\n",
    "    print(X,y)"
   ]
  },
  {
   "cell_type": "code",
   "execution_count": 7,
   "id": "33e4d8de",
   "metadata": {},
   "outputs": [
    {
     "name": "stdout",
     "output_type": "stream",
     "text": [
      "0 a\n",
      ">> 1 data loaded..\n",
      "0 b\n",
      ">> 1 data loaded..\n",
      "0 c\n",
      ">> 1 data loaded..\n",
      "0 d\n",
      ">> 1 data loaded..\n",
      "1 a\n",
      ">> 1 data loaded..\n",
      "1 b\n",
      ">> 1 data loaded..\n",
      "1 c\n",
      ">> 1 data loaded..\n",
      "1 d\n",
      ">> 1 data loaded..\n"
     ]
    }
   ],
   "source": [
    "my_list = ['a','b','c','d']\n",
    "\n",
    "#인자로 받은 리스트로부터 데이터를 하나씩 가져오는 제너레이터를 리턴하는 함수\n",
    "def get_dataset_generator(my_list):\n",
    "    result_list =[]\n",
    "    for i in range(2):\n",
    "        for j in my_list:\n",
    "            yield (i,j)\n",
    "            print('>> 1 data loaded..')\n",
    "\n",
    "\n",
    "dataset_generator = get_dataset_generator(my_list)\n",
    "for X,y in dataset_generator:\n",
    "    print(X,y)"
   ]
  },
  {
   "cell_type": "code",
   "execution_count": 8,
   "id": "7d7a9e9b",
   "metadata": {},
   "outputs": [
    {
     "ename": "ZeroDivisionError",
     "evalue": "division by zero",
     "output_type": "error",
     "traceback": [
      "\u001b[1;31m---------------------------------------------------------------------------\u001b[0m",
      "\u001b[1;31mZeroDivisionError\u001b[0m                         Traceback (most recent call last)",
      "\u001b[1;32m<ipython-input-8-fe01563e1bc6>\u001b[0m in \u001b[0;36m<module>\u001b[1;34m\u001b[0m\n\u001b[1;32m----> 1\u001b[1;33m \u001b[0mprint\u001b[0m\u001b[1;33m(\u001b[0m\u001b[1;36m10\u001b[0m\u001b[1;33m/\u001b[0m\u001b[1;36m0\u001b[0m\u001b[1;33m)\u001b[0m\u001b[1;33m\u001b[0m\u001b[1;33m\u001b[0m\u001b[0m\n\u001b[0m",
      "\u001b[1;31mZeroDivisionError\u001b[0m: division by zero"
     ]
    }
   ],
   "source": [
    "print(10/0)"
   ]
  },
  {
   "cell_type": "code",
   "execution_count": 9,
   "id": "49b43973",
   "metadata": {},
   "outputs": [
    {
     "name": "stdout",
     "output_type": "stream",
     "text": [
      "에러가 발생했습니다\n"
     ]
    }
   ],
   "source": [
    "a=10\n",
    "b=0\n",
    "try :\n",
    "    #실행 코드\n",
    "    print(a/b)\n",
    "    \n",
    "except:\n",
    "    #에러가 발생했을때 처리하는 코드\n",
    "    print('에러가 발생했습니다')"
   ]
  },
  {
   "cell_type": "code",
   "execution_count": 10,
   "id": "6be3ffe2",
   "metadata": {},
   "outputs": [
    {
     "name": "stdout",
     "output_type": "stream",
     "text": [
      "10.0\n"
     ]
    }
   ],
   "source": [
    "a=10\n",
    "b=1\n",
    "try :\n",
    "    #실행 코드\n",
    "    print(a/b)\n",
    "    \n",
    "except:\n",
    "    #에러가 발생했을때 처리하는 코드\n",
    "    print('에러가 발생했습니다')"
   ]
  },
  {
   "cell_type": "code",
   "execution_count": 11,
   "id": "1a2cf303",
   "metadata": {},
   "outputs": [
    {
     "name": "stdout",
     "output_type": "stream",
     "text": [
      "10.0\n"
     ]
    }
   ],
   "source": [
    "a=10\n",
    "b=1\n",
    "try :\n",
    "    #실행 코드\n",
    "    print(a/b)\n",
    "    \n",
    "except:\n",
    "    print('에러가 발생했습니다.')\n",
    "    #에러가 발생했을 때 처리하는 코드\n",
    "    b= b+1\n",
    "    print(\"값 수정 : \", a/b)"
   ]
  },
  {
   "cell_type": "code",
   "execution_count": null,
   "id": "30468eaf",
   "metadata": {},
   "outputs": [],
   "source": [
    "import time\n",
    "\n",
    "num_list = ['p1','p2','p3','p4']\n",
    "start = time.time()\n",
    "\n",
    "def count(name):\n",
    "    for i in range(0,1000000):\n",
    "        a=1+2\n",
    "        \n",
    "    print(\"finish : \", name)\n",
    "    \n",
    "for num in num_list:\n",
    "    count(num)\n",
    "    \n",
    "print(\"time :\", time.time() -start)"
   ]
  },
  {
   "cell_type": "code",
   "execution_count": null,
   "id": "bda45af7",
   "metadata": {},
   "outputs": [],
   "source": [
    "import multiprocessing\n",
    "import time\n",
    "\n",
    "num_list = ['p1','p2','p3','p4']\n",
    "start = time.time()\n",
    "\n",
    "def count(name):\n",
    "    for i in range(0,1000000):\n",
    "        a=1+2\n",
    "        \n",
    "    print(\"finish : \", name)\n",
    "    \n",
    "\n",
    "if __name__== '__main__':\n",
    "    pool = multiprocessing.Pool(processes=4)\n",
    "    pool.map(count, num_list)\n",
    "    pool.close()\n",
    "    pool.join()\n",
    "    \n",
    "print(\"time :\", time.time() - start)"
   ]
  },
  {
   "cell_type": "code",
   "execution_count": null,
   "id": "daafee0f",
   "metadata": {},
   "outputs": [],
   "source": []
  }
 ],
 "metadata": {
  "kernelspec": {
   "display_name": "python3_7_6",
   "language": "python",
   "name": "py3_7_6"
  },
  "language_info": {
   "codemirror_mode": {
    "name": "ipython",
    "version": 3
   },
   "file_extension": ".py",
   "mimetype": "text/x-python",
   "name": "python",
   "nbconvert_exporter": "python",
   "pygments_lexer": "ipython3",
   "version": "3.8.8"
  },
  "vp": {
   "base_numbering": 1,
   "nav_menu": {},
   "number_sections": true,
   "sideBar": true,
   "title_cell": "VisualPython",
   "title_sidebar": "VisualPython",
   "vpPosition": {
    "height": "calc(100% - 180px)",
    "right": "10px",
    "top": "110px",
    "width": "50%"
   },
   "vp_cell": false,
   "vp_section_display": true,
   "vp_window_display": false
  }
 },
 "nbformat": 4,
 "nbformat_minor": 5
}
