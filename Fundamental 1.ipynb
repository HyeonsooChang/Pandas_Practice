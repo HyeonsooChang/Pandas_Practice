{
  "nbformat": 4,
  "nbformat_minor": 0,
  "metadata": {
    "colab": {
      "name": "Fundamental.ipynb",
      "provenance": []
    },
    "kernelspec": {
      "name": "python3",
      "display_name": "Python 3"
    },
    "language_info": {
      "name": "python"
    }
  },
  "cells": [
    {
      "cell_type": "code",
      "metadata": {
        "colab": {
          "base_uri": "https://localhost:8080/"
        },
        "id": "f8gmX71GVNPS",
        "outputId": "68def622-7468-427b-f654-9ac54266b269"
      },
      "source": [
        "print(1)"
      ],
      "execution_count": 1,
      "outputs": [
        {
          "output_type": "stream",
          "text": [
            "1\n"
          ],
          "name": "stdout"
        }
      ]
    },
    {
      "cell_type": "code",
      "metadata": {
        "colab": {
          "base_uri": "https://localhost:8080/"
        },
        "id": "ipvdNjQQVShZ",
        "outputId": "c13c11bf-ad12-46fd-b637-dedb758554e5"
      },
      "source": [
        "print('hello')"
      ],
      "execution_count": 2,
      "outputs": [
        {
          "output_type": "stream",
          "text": [
            "hello\n"
          ],
          "name": "stdout"
        }
      ]
    },
    {
      "cell_type": "code",
      "metadata": {
        "colab": {
          "base_uri": "https://localhost:8080/"
        },
        "id": "JJk42tuaVVrb",
        "outputId": "a6457577-a744-4949-9974-f17992b706ef"
      },
      "source": [
        "print('hello' + 'world')"
      ],
      "execution_count": 3,
      "outputs": [
        {
          "output_type": "stream",
          "text": [
            "helloworld\n"
          ],
          "name": "stdout"
        }
      ]
    },
    {
      "cell_type": "code",
      "metadata": {
        "colab": {
          "base_uri": "https://localhost:8080/"
        },
        "id": "4hZ4o73iVYaG",
        "outputId": "e5e2de88-6774-423b-b76b-5f321f3960bd"
      },
      "source": [
        "greeting = '안녕하세요'\n",
        "print(greeting)"
      ],
      "execution_count": 4,
      "outputs": [
        {
          "output_type": "stream",
          "text": [
            "안녕하세요\n"
          ],
          "name": "stdout"
        }
      ]
    },
    {
      "cell_type": "code",
      "metadata": {
        "colab": {
          "base_uri": "https://localhost:8080/"
        },
        "id": "goSBmcKUVgrq",
        "outputId": "2053f40b-906f-4001-9326-38e026ee26c5"
      },
      "source": [
        "greeting = '안녕하세요'\n",
        "greeting = '안녕!'\n",
        "print(greeting)"
      ],
      "execution_count": 5,
      "outputs": [
        {
          "output_type": "stream",
          "text": [
            "안녕!\n"
          ],
          "name": "stdout"
        }
      ]
    },
    {
      "cell_type": "code",
      "metadata": {
        "id": "_7SvEieLVn5O"
      },
      "source": [
        "def say_hi():\n",
        "  print('안녕!')"
      ],
      "execution_count": 7,
      "outputs": []
    },
    {
      "cell_type": "code",
      "metadata": {
        "colab": {
          "base_uri": "https://localhost:8080/"
        },
        "id": "fEAgUx8-VtHK",
        "outputId": "aa77f107-72bb-478a-ac0f-29d59b572144"
      },
      "source": [
        "say_hi()"
      ],
      "execution_count": 8,
      "outputs": [
        {
          "output_type": "stream",
          "text": [
            "안녕!\n"
          ],
          "name": "stdout"
        }
      ]
    },
    {
      "cell_type": "code",
      "metadata": {
        "colab": {
          "base_uri": "https://localhost:8080/"
        },
        "id": "vEav-b91V9M8",
        "outputId": "7fa7e6a0-b51c-437c-c0ee-a6b331ef8fe0"
      },
      "source": [
        "def say_hi_nice():\n",
        "  print(\"안녕!\")\n",
        "  print(\"반가워\")\n",
        "\n",
        "say_hi_nice()"
      ],
      "execution_count": 9,
      "outputs": [
        {
          "output_type": "stream",
          "text": [
            "안녕!\n",
            "반가워\n"
          ],
          "name": "stdout"
        }
      ]
    },
    {
      "cell_type": "code",
      "metadata": {
        "colab": {
          "base_uri": "https://localhost:8080/"
        },
        "id": "Zl0QeyE7WF7u",
        "outputId": "0ced793b-43f7-47c0-8e43-a687f6e5d250"
      },
      "source": [
        "name = '하루'\n",
        "name = '시우'\n",
        "def say_name():\n",
        "  print(name)\n",
        "say_name()"
      ],
      "execution_count": 12,
      "outputs": [
        {
          "output_type": "stream",
          "text": [
            "시우\n"
          ],
          "name": "stdout"
        }
      ]
    },
    {
      "cell_type": "code",
      "metadata": {
        "colab": {
          "base_uri": "https://localhost:8080/"
        },
        "id": "qxpe1QCNWRMD",
        "outputId": "9abe0698-fa85-4469-bc03-ad92f1c94239"
      },
      "source": [
        "name = '하루'\n",
        "def change_name():\n",
        "  name = '시우'\n",
        "\n",
        "change_name()\n",
        "print(name)"
      ],
      "execution_count": 15,
      "outputs": [
        {
          "output_type": "stream",
          "text": [
            "하루\n"
          ],
          "name": "stdout"
        }
      ]
    },
    {
      "cell_type": "code",
      "metadata": {
        "colab": {
          "base_uri": "https://localhost:8080/"
        },
        "id": "Rd4u8IPvWd55",
        "outputId": "9fccaa64-fc32-49a1-9e94-33a3fc398155"
      },
      "source": [
        "def say_hi_somebody(name):\n",
        "  print(name + ', 안녕')\n",
        "\n",
        "say_hi_somebody('준이')"
      ],
      "execution_count": 18,
      "outputs": [
        {
          "output_type": "stream",
          "text": [
            "준이, 안녕\n"
          ],
          "name": "stdout"
        }
      ]
    },
    {
      "cell_type": "code",
      "metadata": {
        "colab": {
          "base_uri": "https://localhost:8080/"
        },
        "id": "2cC8tmsbW0hz",
        "outputId": "84482014-96d2-4f8f-8af7-f718749bec75"
      },
      "source": [
        "def say_hi_default(name='somebody'):\n",
        "  print('안녕' + name + '!')\n",
        "\n",
        "say_hi_default('준이')\n",
        "say_hi_default()"
      ],
      "execution_count": 20,
      "outputs": [
        {
          "output_type": "stream",
          "text": [
            "안녕준이!\n",
            "안녕somebody!\n"
          ],
          "name": "stdout"
        }
      ]
    },
    {
      "cell_type": "code",
      "metadata": {
        "colab": {
          "base_uri": "https://localhost:8080/"
        },
        "id": "WY20uoF0XaU7",
        "outputId": "081ff560-069d-4221-8c39-63eb00c59e1a"
      },
      "source": [
        "def say_hi_couple(name1, name2):\n",
        "  print(name1 + ','+ name2 + '안녕!')\n",
        "\n",
        "say_hi_couple('그리', '단테')"
      ],
      "execution_count": 21,
      "outputs": [
        {
          "output_type": "stream",
          "text": [
            "그리,단테안녕!\n"
          ],
          "name": "stdout"
        }
      ]
    },
    {
      "cell_type": "code",
      "metadata": {
        "colab": {
          "base_uri": "https://localhost:8080/"
        },
        "id": "L9YLqiT7XrBv",
        "outputId": "2565896d-2b96-4dd0-b11d-5d06587ed21f"
      },
      "source": [
        "def add(number1, number2):\n",
        "  print(number1+ number2)\n",
        "  return number1 + number2\n",
        "\n",
        "add(1,2)\n",
        "print(add(1,2)+3)"
      ],
      "execution_count": 24,
      "outputs": [
        {
          "output_type": "stream",
          "text": [
            "3\n",
            "3\n",
            "6\n"
          ],
          "name": "stdout"
        }
      ]
    },
    {
      "cell_type": "code",
      "metadata": {
        "colab": {
          "base_uri": "https://localhost:8080/"
        },
        "id": "xfuo0MWkX-A7",
        "outputId": "dd7a5a7b-e30e-4902-886f-07250af74d37"
      },
      "source": [
        "def print_two(word1, word2):\n",
        "  print(word1)\n",
        "  print(word2)\n",
        "\n",
        "def print_and_return(word1, word2, word3):\n",
        "  print_two(word3, word2)\n",
        "  return word1\n",
        "\n",
        "print_two('A', print_and_return('B','c' ,'D'))"
      ],
      "execution_count": 25,
      "outputs": [
        {
          "output_type": "stream",
          "text": [
            "D\n",
            "c\n",
            "A\n",
            "B\n"
          ],
          "name": "stdout"
        }
      ]
    },
    {
      "cell_type": "code",
      "metadata": {
        "id": "bTpZTakTZCwa"
      },
      "source": [
        ""
      ],
      "execution_count": null,
      "outputs": []
    }
  ]
}